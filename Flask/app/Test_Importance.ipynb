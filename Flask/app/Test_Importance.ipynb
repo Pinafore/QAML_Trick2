{
    "cells": [
        {
            "cell_type": "code",
            "execution_count": 203,
            "source": [
                "import sys\n",
                "sys.path.append(\"..\")\n",
                "sys.path.insert(0, './app')\n",
                "from flask import Flask, jsonify, request\n",
                "import pickle\n",
                "# from util import *\n",
                "# from app import util\n",
                "from flask import Blueprint, render_template, redirect\n",
                "from transformers import BertTokenizer, BertForSequenceClassification\n",
                "import re"
            ],
            "outputs": [],
            "metadata": {}
        },
        {
            "cell_type": "markdown",
            "source": [
                "# 加载模型"
            ],
            "metadata": {}
        },
        {
            "cell_type": "code",
            "execution_count": 204,
            "source": [
                "def load_bert_model():\n",
                "    model = BertForSequenceClassification.from_pretrained(\n",
                "        '../model/difficulty_models/BERT_full_question')\n",
                "    tokenizer = BertTokenizer.from_pretrained('bert-base-uncased')\n",
                "    return model, tokenizer"
            ],
            "outputs": [],
            "metadata": {}
        },
        {
            "cell_type": "code",
            "execution_count": 205,
            "source": [
                "def get_pretrained_tfidf_vectorizer():\n",
                "    with open(\"../model/model.pickle\", \"rb\") as f:\n",
                "        params = pickle.load(f)\n",
                "\n",
                "    vectorizer = params[\"tfidf_vectorizer\"]\n",
                "    Matrix = params[\"tfidf_matrix\"]\n",
                "    ans = params[\"i_to_ans\"]\n",
                "    return vectorizer, Matrix, ans"
            ],
            "outputs": [],
            "metadata": {}
        },
        {
            "cell_type": "code",
            "execution_count": 206,
            "source": [
                "model, tokenizer = load_bert_model()\n",
                "params = get_pretrained_tfidf_vectorizer()"
            ],
            "outputs": [
                {
                    "output_type": "stream",
                    "name": "stderr",
                    "text": [
                        "/Users/mr.salt/opt/anaconda3/envs/ml/lib/python3.8/site-packages/sklearn/base.py:329: UserWarning: Trying to unpickle estimator TfidfTransformer from version 0.19.2 when using version 0.23.2. This might lead to breaking code or invalid results. Use at your own risk.\n",
                        "  warnings.warn(\n",
                        "/Users/mr.salt/opt/anaconda3/envs/ml/lib/python3.8/site-packages/sklearn/base.py:329: UserWarning: Trying to unpickle estimator TfidfVectorizer from version 0.19.2 when using version 0.23.2. This might lead to breaking code or invalid results. Use at your own risk.\n",
                        "  warnings.warn(\n"
                    ]
                }
            ],
            "metadata": {}
        },
        {
            "cell_type": "code",
            "execution_count": 207,
            "source": [
                "vectorizer, Matrix, ans = params[0], params[1], params[2]"
            ],
            "outputs": [],
            "metadata": {}
        },
        {
            "cell_type": "code",
            "execution_count": 208,
            "source": [
                "vectorizer"
            ],
            "outputs": [
                {
                    "output_type": "execute_result",
                    "data": {
                        "text/plain": [
                            "TfidfVectorizer(dtype=<class 'numpy.int64'>, max_df=0.9, min_df=2,\n",
                            "                ngram_range=(1, 3))"
                        ]
                    },
                    "metadata": {},
                    "execution_count": 208
                }
            ],
            "metadata": {}
        },
        {
            "cell_type": "code",
            "execution_count": 209,
            "source": [
                "Matrix"
            ],
            "outputs": [
                {
                    "output_type": "execute_result",
                    "data": {
                        "text/plain": [
                            "<24448x1460332 sparse matrix of type '<class 'numpy.float64'>'\n",
                            "\twith 13702827 stored elements in Compressed Sparse Row format>"
                        ]
                    },
                    "metadata": {},
                    "execution_count": 209
                }
            ],
            "metadata": {}
        },
        {
            "cell_type": "markdown",
            "source": [
                "# 计算结果"
            ],
            "metadata": {}
        },
        {
            "cell_type": "code",
            "execution_count": 219,
            "source": [
                "def get_actual_guess_with_index(question, max=12):\n",
                "    answer = []\n",
                "    repre = vectorizer.transform(question)\n",
                "    matrix = Matrix.dot(repre.T).T\n",
                "    indices = (-matrix).toarray().argsort(axis=1)[:, 0:max]\n",
                "    for i in range(len(question)):\n",
                "        idx = indices[i]\n",
                "        answer.append([(ans[j], matrix[i, j]) for j in idx])\n",
                "    return answer[0][0][0:], indices[0][0]"
            ],
            "outputs": [],
            "metadata": {}
        },
        {
            "cell_type": "code",
            "execution_count": 349,
            "source": [
                "question=\"Along with orbitons and holons, quasiparticles carrying this property are formed from electrons in Luttinger liquids, which carry density waves in charge and this property. Similar wave-like disturbances in the collective structure of this property for a crystal lattice are quantized into magnons. This property separates orthohydrogen from parahydrogen, and its total value is 0 for singlet states and 1 for triplet states. This property causes a beam of silver atoms sent through an inhomogeneous magnetic field to split into two beams instead of forming a continuous band. This property, described by a set of Hermitian unitary matrices named for Wolfgang Pauli, was discovered in the Stern-Gerlach experiment. For 10 points, name this intrinsic form of angular momentum, whose quantum number can be plus or minus one-half for electrons.\"\n",
                "question=[question]\n",
                "answer = []\n",
                "repre = vectorizer.transform(question)\n",
                "matrix = Matrix.dot(repre.T).T  # 结果就已经是相似度了\n",
                "indices = (-matrix).toarray().argsort(axis=1)[:, 0:12]  #排序，结果是索引\n",
                "i=0\n",
                "idx = indices[i]\n",
                "answer.append([(ans[j], matrix[i, j]) for j in idx])"
            ],
            "outputs": [],
            "metadata": {}
        },
        {
            "cell_type": "code",
            "execution_count": 350,
            "source": [
                "answer[0][0:]"
            ],
            "outputs": [
                {
                    "output_type": "execute_result",
                    "data": {
                        "text/plain": [
                            "[('Spin_(physics)', 0.3896472256623267),\n",
                            " ('Commutative_property', 0.2971257586424044),\n",
                            " ('Chirality', 0.26751165604533755),\n",
                            " ('Differentiable_function', 0.2669230106098698),\n",
                            " ('Aromaticity', 0.26159644234522683),\n",
                            " ('Compact_space', 0.26149545892847254),\n",
                            " ('Solubility', 0.24626703885793874),\n",
                            " ('CONvergence', 0.24431863893048913),\n",
                            " ('Ferroelectricity', 0.2270951513317122),\n",
                            " ('Hydrophobe', 0.22655805999737152),\n",
                            " ('Associative_property', 0.2263659955317855),\n",
                            " ('The_Open_Championship', 0.22595733950315214)]"
                        ]
                    },
                    "metadata": {},
                    "execution_count": 350
                }
            ],
            "metadata": {}
        },
        {
            "cell_type": "code",
            "execution_count": 255,
            "source": [
                "indices"
            ],
            "outputs": [
                {
                    "output_type": "execute_result",
                    "data": {
                        "text/plain": [
                            "array([[14647,  7322, 12451,  3689, 13065,  8923, 10536,  7206,  7594,\n",
                            "         7862, 21926, 12121]])"
                        ]
                    },
                    "metadata": {},
                    "execution_count": 255
                }
            ],
            "metadata": {}
        },
        {
            "cell_type": "code",
            "execution_count": 256,
            "source": [
                "answer"
            ],
            "outputs": [
                {
                    "output_type": "execute_result",
                    "data": {
                        "text/plain": [
                            "[[('Texas_annexation', 0.10866806717246956),\n",
                            "  ('Alaska_Purchase', 0.0660379528687406),\n",
                            "  ('Back-to-Africa_movement', 0.06506766093835703),\n",
                            "  ('Gadsden_Purchase', 0.06415168247695884),\n",
                            "  ('German_reunification', 0.05334426633591013),\n",
                            "  ('Republic_of_Texas', 0.052787021359412774),\n",
                            "  ('French_Revolution', 0.052236304814261995),\n",
                            "  ('Panic_of_1837', 0.049619827176177356),\n",
                            "  ('Great_Famine_(Ireland)', 0.04795355781457573),\n",
                            "  ('Assassination_of_John_F._Kennedy', 0.04781273760267537),\n",
                            "  ('Religious_conversion', 0.047740971767453365),\n",
                            "  ('Glorious_Revolution', 0.04759893642134324)]]"
                        ]
                    },
                    "metadata": {},
                    "execution_count": 256
                }
            ],
            "metadata": {}
        },
        {
            "cell_type": "code",
            "execution_count": 223,
            "source": [
                "actual_answer, index_of_answer = get_actual_guess_with_index(question=question)"
            ],
            "outputs": [],
            "metadata": {}
        },
        {
            "cell_type": "code",
            "execution_count": 224,
            "source": [
                "actual_answer"
            ],
            "outputs": [
                {
                    "output_type": "execute_result",
                    "data": {
                        "text/plain": [
                            "('Counties_of_Ireland', 0.3952392588292712)"
                        ]
                    },
                    "metadata": {},
                    "execution_count": 224
                }
            ],
            "metadata": {}
        },
        {
            "cell_type": "code",
            "execution_count": 225,
            "source": [
                "index_of_answer"
            ],
            "outputs": [
                {
                    "output_type": "execute_result",
                    "data": {
                        "text/plain": [
                            "197"
                        ]
                    },
                    "metadata": {},
                    "execution_count": 225
                }
            ],
            "metadata": {}
        },
        {
            "cell_type": "markdown",
            "source": [
                "# 句子分句"
            ],
            "metadata": {}
        },
        {
            "cell_type": "code",
            "execution_count": 226,
            "source": [
                "import nltk"
            ],
            "outputs": [],
            "metadata": {}
        },
        {
            "cell_type": "code",
            "execution_count": 227,
            "source": [
                "question=\"After making a deal with Akbar Bugti, this leader launched a raid on the Iraqi embassy that revealed a startlingly robust arms cache intended to support an uprising in Balochistan. He promised to \\\"break the legs\\\" of anyone who broke his parliamentary boycott following the victory of Sheikh Mujibur Rahman's Awami League. This leader resolved to develop nuclear weapons \\\"even if we have to eat grass\\\" after his nation's major rival conducted the Smiling Buddha test. Operation Fair Play ousted this successor of Yahya Khan, who signed the Simla Agreement with Indira Gandhi. This founder of the PPP was executed after a coup by Zia-ul-Haq. For 10 points, name this Pakistani leader of the 1970's, whose office was later held by his daughter Benazir.\"\n",
                "array_of_sentences_in_question = nltk.tokenize.sent_tokenize(question)\n"
            ],
            "outputs": [],
            "metadata": {}
        },
        {
            "cell_type": "code",
            "execution_count": null,
            "source": [
                "array_of_sentences_in_question"
            ],
            "outputs": [],
            "metadata": {}
        },
        {
            "cell_type": "markdown",
            "source": [
                "# 重要的单词"
            ],
            "metadata": {}
        },
        {
            "cell_type": "code",
            "execution_count": 294,
            "source": [
                "def guess_top_n(question, params, max=12, n=3):\n",
                "    vectorizer, Matrix, ans = params[0], params[1], params[2]\n",
                "    answer = []\n",
                "    repre = vectorizer.transform(question)\n",
                "    matrix = Matrix.dot(repre.T).T\n",
                "    indices = (-matrix).toarray().argsort(axis=1)[:, 0:max]\n",
                "    for i in range(len(question)):\n",
                "        answer.append([(ans[j], matrix[i, j]) for j in indices[i]])\n",
                "    return answer[0][0:n]"
            ],
            "outputs": [],
            "metadata": {}
        },
        {
            "cell_type": "code",
            "execution_count": 295,
            "source": [
                "def buzz_Cai(question, answer, min_index=0, threshold_buzz=0.3):\n",
                "    temp_word_array = question.split(' ')\n",
                "    # check if buzzer ever goes above threshold\n",
                "    index_of_bin_search = len(temp_word_array)\n",
                "    question_sentence = question\n",
                "    temp_var = guess_top_n(question=[question_sentence], params=params, max=3, n=1)\n",
                "    if(temp_var[0][1] < threshold_buzz and temp_var[0][0] == answer):\n",
                "        return \"\", \"1\", False\n",
                "    elif(temp_var[0][0] != answer):\n",
                "        return \"\", \"2\", False\n",
                "    else:\n",
                "        pass\n",
                "    max_index = index_of_bin_search - 1\n",
                "\n",
                "    while max_index >= min_index:\n",
                "        index_of_bin_search = (max_index+min_index)//2\n",
                "        question_sentence = \" \".join(temp_word_array[:index_of_bin_search])\n",
                "        temp_var = guess_top_n(question=[question_sentence], params=params, max=1, n=1)\n",
                "        if (temp_var[0][1] > threshold_buzz):\n",
                "            max_index = index_of_bin_search-1\n",
                "        else:\n",
                "            min_index = index_of_bin_search+1\n",
                "    rest_of_sentence = \" \".join(temp_word_array[index_of_bin_search:])\n",
                "    return question_sentence, index_of_bin_search, rest_of_sentence, True"
            ],
            "outputs": [],
            "metadata": {}
        },
        {
            "cell_type": "code",
            "execution_count": 357,
            "source": [
                "def get_important_sentence_to_get_right_answer(question, answer):\n",
                "    temp_sentence_array = break_into_sentences(question)\n",
                "    array_of_important_sentence = []\n",
                "    for i in range(len(temp_sentence_array)):\n",
                "        temp_sentence = temp_sentence_array[:i] + temp_sentence_array[i+1:]\n",
                "        temp_sentence_string = ' '.join(temp_sentence)\n",
                "        curr_answer, index_of_answer = get_actual_guess_with_index(question=[temp_sentence_string])\n",
                "        if curr_answer[0] != answer:\n",
                "            array_of_important_sentence.append(temp_sentence_array[i])\n",
                "    return array_of_important_sentence"
            ],
            "outputs": [],
            "metadata": {}
        },
        {
            "cell_type": "code",
            "execution_count": 344,
            "source": [
                "def get_important_word_to_delay_the_buzzer(question, answer):\n",
                "    temp_word_array = question.split(' ')\n",
                "    array_of_important_word_to_delay_buzzer = []\n",
                "    array_of_important_word_to_right_answer = []\n",
                "    init_question_sentence, index_buzzer, init_rest_of_sentence, flag = buzz_Cai(\n",
                "        question=question, answer=answer)\n",
                "    if flag == False:\n",
                "        return array_of_important_word_to_delay_buzzer, array_of_important_word_to_right_answer\n",
                "    length = len(init_question_sentence)\n",
                "    for i in range(int(index_buzzer))//2:\n",
                "        if len(temp_word_array[i]) < 6:\n",
                "            continue\n",
                "        temp_sentence = temp_word_array[:i*2] + temp_word_array[i*2+2:]\n",
                "        temp_sentence_string = ' '.join(temp_sentence)\n",
                "        question_sentence, index_buzzer_nouse, rest_of_sentence, flag = buzz_Cai(\n",
                "            question=temp_sentence_string, answer=answer)\n",
                "        if flag == True and len(question_sentence) > length:\n",
                "            array_of_important_word_to_delay_buzzer.append(temp_word_array[i])\n",
                "        elif flag == False and rest_of_sentence == \"2\":\n",
                "            array_of_important_word_to_right_answer.append(temp_word_array[i])\n",
                "        elif flag == False and rest_of_sentence == \"1\":\n",
                "            array_of_important_word_to_right_answer.append(temp_word_array[i])\n",
                "        else:\n",
                "            pass\n",
                "    return array_of_important_word_to_delay_buzzer, array_of_important_word_to_right_answer"
            ],
            "outputs": [],
            "metadata": {}
        },
        {
            "cell_type": "code",
            "execution_count": 358,
            "source": [
                "def high_light(question, answer):\n",
                "\n",
                "    temp_var = guess_top_n(question=[question], params=params, n=1)[0][0]\n",
                "    if answer != temp_var:\n",
                "        return []\n",
                "\n",
                "    highlight = []\n",
                "    array_of_important_word_to_delay_buzzer, array_of_important_word_to_right_answer = get_important_word_to_delay_the_buzzer(question, answer)\n",
                "    array_of_important_sentence_to_right_answer = get_important_sentence_to_get_right_answer(question, answer)\n",
                "\n",
                "\n",
                "    highlight.extend(highlight_json(items=array_of_important_word_to_right_answer, color=\"#e91640\"))\n",
                "    highlight.extend(highlight_json(items=array_of_important_sentence_to_right_answer, color=\"#e91640\"))\n",
                "    highlight.extend(highlight_json(items=array_of_important_word_to_delay_buzzer, color=\"#fff05e\"))\n",
                "\n",
                "    print(highlight)\n",
                "    # return jsonify({\"highlight\": highlight})\n"
            ],
            "outputs": [],
            "metadata": {}
        },
        {
            "cell_type": "code",
            "execution_count": 346,
            "source": [
                "def highlight_json(items = None, color = None):\n",
                "    '''\n",
                "    Organize the json structure for text highlighting in frontend\n",
                "    highlight: [\n",
                "        { text: \"American\", style: \"background-color:#f37373\" },\n",
                "        { text: \"India\", style: \"background-color:#f37373\" },\n",
                "        { text: \"Jack\", style: \"background-color:#fff05e\" },\n",
                "        { text: \"Mary\", style: \"background-color:#fff05e\" },\n",
                "      ],\n",
                "    '''\n",
                "    highlight = []\n",
                "    for item in items:\n",
                "        temp = {}\n",
                "        temp['text'] = item\n",
                "        temp['style'] = \"background-color:\"+color\n",
                "        highlight.append(temp)\n",
                "    return highlight\n"
            ],
            "outputs": [],
            "metadata": {}
        },
        {
            "cell_type": "code",
            "execution_count": 326,
            "source": [
                "highlight_json(items=['Jack', 'Mary'], color=\"#f37373\")"
            ],
            "outputs": [
                {
                    "output_type": "execute_result",
                    "data": {
                        "text/plain": [
                            "[{'text': 'Jack', 'style': 'background-color:#f37373'},\n",
                            " {'text': 'Mary', 'style': 'background-color:#f37373'}]"
                        ]
                    },
                    "metadata": {},
                    "execution_count": 326
                }
            ],
            "metadata": {}
        },
        {
            "cell_type": "code",
            "execution_count": 300,
            "source": [
                "import nltk\n",
                "def break_into_sentences(question):\n",
                "    array_of_sentences_in_question = nltk.tokenize.sent_tokenize(question)\n",
                "    return array_of_sentences_in_question"
            ],
            "outputs": [],
            "metadata": {}
        },
        {
            "cell_type": "code",
            "execution_count": 351,
            "source": [
                "question=\"Along with orbitons and holons, quasiparticles carrying this property are formed from electrons in Luttinger liquids, which carry density waves in charge and this property. Similar wave-like disturbances in the collective structure of this property for a crystal lattice are quantized into magnons. This property separates orthohydrogen from parahydrogen, and its total value is 0 for singlet states and 1 for triplet states. This property causes a beam of silver atoms sent through an inhomogeneous magnetic field to split into two beams instead of forming a continuous band. This property, described by a set of Hermitian unitary matrices named for Wolfgang Pauli, was discovered in the Stern-Gerlach experiment. For 10 points, name this intrinsic form of angular momentum, whose quantum number can be plus or minus one-half for electrons.\"\n",
                "answer='Spin_(physics)'"
            ],
            "outputs": [],
            "metadata": {}
        },
        {
            "cell_type": "markdown",
            "source": [
                "Along with orbitons and holons, quasiparticles carrying this property are formed from electrons in Luttinger liquids, which carry density waves in charge and this property. Similar wave-like disturbances in the collective structure of this property for a crystal lattice are quantized into magnons. This property separates orthohydrogen from parahydrogen, and its total value is 0 for singlet states and 1 for triplet states. This property causes a beam of silver atoms sent through an inhomogeneous magnetic field to split into two beams instead of forming a continuous band. This property, described by a set of Hermitian unitary matrices named for Wolfgang Pauli, was discovered in the Stern-Gerlach experiment. For 10 points, name this intrinsic form of angular momentum, whose quantum number can be plus or minus one-half for electrons.\n",
                "Spin_(physics)"
            ],
            "metadata": {}
        },
        {
            "cell_type": "code",
            "execution_count": 352,
            "source": [
                "actual_answer, index_of_answer = get_actual_guess_with_index(question=[question])"
            ],
            "outputs": [],
            "metadata": {}
        },
        {
            "cell_type": "code",
            "execution_count": 312,
            "source": [
                "result=word(question, answer)"
            ],
            "outputs": [],
            "metadata": {}
        },
        {
            "cell_type": "code",
            "execution_count": 314,
            "source": [
                "print(result)"
            ],
            "outputs": [
                {
                    "output_type": "stream",
                    "name": "stdout",
                    "text": [
                        "None\n"
                    ]
                }
            ],
            "metadata": {}
        },
        {
            "cell_type": "code",
            "execution_count": 353,
            "source": [
                "actual_answer"
            ],
            "outputs": [
                {
                    "output_type": "execute_result",
                    "data": {
                        "text/plain": [
                            "('Spin_(physics)', 0.3896472256623267)"
                        ]
                    },
                    "metadata": {},
                    "execution_count": 353
                }
            ],
            "metadata": {}
        },
        {
            "cell_type": "code",
            "execution_count": 354,
            "source": [
                "array_of_important_word=get_important_word_to_delay_the_buzzer(question, answer)"
            ],
            "outputs": [],
            "metadata": {}
        },
        {
            "cell_type": "code",
            "execution_count": null,
            "source": [
                "buzz_Cai(question, answer)"
            ],
            "outputs": [],
            "metadata": {}
        },
        {
            "cell_type": "code",
            "execution_count": 355,
            "source": [
                "array_of_important_word"
            ],
            "outputs": [
                {
                    "output_type": "execute_result",
                    "data": {
                        "text/plain": [
                            "(['Along',\n",
                            "  'with',\n",
                            "  'and',\n",
                            "  'holons,',\n",
                            "  'this',\n",
                            "  'property',\n",
                            "  'are',\n",
                            "  'formed',\n",
                            "  'in',\n",
                            "  'carry',\n",
                            "  'this',\n",
                            "  'property.',\n",
                            "  'Similar',\n",
                            "  'the',\n",
                            "  'of',\n",
                            "  'this',\n",
                            "  'property',\n",
                            "  'for',\n",
                            "  'a',\n",
                            "  'crystal',\n",
                            "  'are',\n",
                            "  'into',\n",
                            "  'This'],\n",
                            " [])"
                        ]
                    },
                    "metadata": {},
                    "execution_count": 355
                }
            ],
            "metadata": {}
        },
        {
            "cell_type": "code",
            "execution_count": 359,
            "source": [
                "high_light(question, answer)"
            ],
            "outputs": [
                {
                    "output_type": "stream",
                    "name": "stdout",
                    "text": [
                        "[{'text': 'For 10 points, name this intrinsic form of angular momentum, whose quantum number can be plus or minus one-half for electrons.', 'style': 'background-color:#e91640'}, {'text': 'Along', 'style': 'background-color:#fff05e'}, {'text': 'with', 'style': 'background-color:#fff05e'}, {'text': 'and', 'style': 'background-color:#fff05e'}, {'text': 'holons,', 'style': 'background-color:#fff05e'}, {'text': 'this', 'style': 'background-color:#fff05e'}, {'text': 'property', 'style': 'background-color:#fff05e'}, {'text': 'are', 'style': 'background-color:#fff05e'}, {'text': 'formed', 'style': 'background-color:#fff05e'}, {'text': 'in', 'style': 'background-color:#fff05e'}, {'text': 'carry', 'style': 'background-color:#fff05e'}, {'text': 'this', 'style': 'background-color:#fff05e'}, {'text': 'property.', 'style': 'background-color:#fff05e'}, {'text': 'Similar', 'style': 'background-color:#fff05e'}, {'text': 'the', 'style': 'background-color:#fff05e'}, {'text': 'of', 'style': 'background-color:#fff05e'}, {'text': 'this', 'style': 'background-color:#fff05e'}, {'text': 'property', 'style': 'background-color:#fff05e'}, {'text': 'for', 'style': 'background-color:#fff05e'}, {'text': 'a', 'style': 'background-color:#fff05e'}, {'text': 'crystal', 'style': 'background-color:#fff05e'}, {'text': 'are', 'style': 'background-color:#fff05e'}, {'text': 'into', 'style': 'background-color:#fff05e'}, {'text': 'This', 'style': 'background-color:#fff05e'}]\n"
                    ]
                }
            ],
            "metadata": {}
        },
        {
            "cell_type": "code",
            "execution_count": 402,
            "source": [
                "list1=['Jack']\n",
                "list2=['Mary']\n",
                "list3=[\"Lilaa\"]\n",
                "list4=[]\n",
                "list4.extend(list1)\n",
                "list4.extend(list2)\n",
                "list4.extend(list3)"
            ],
            "outputs": [],
            "metadata": {}
        },
        {
            "cell_type": "code",
            "execution_count": 406,
            "source": [
                "list4=['aaaaa', 'bbb', 'ccc', 'rrrr', 'eeeeeee']"
            ],
            "outputs": [],
            "metadata": {}
        },
        {
            "cell_type": "code",
            "execution_count": 407,
            "source": [
                "for word in list4:\n",
                "    if len(word) < 5:\n",
                "        list4.remove(word)"
            ],
            "outputs": [],
            "metadata": {}
        },
        {
            "cell_type": "code",
            "execution_count": 408,
            "source": [
                "list4"
            ],
            "outputs": [
                {
                    "output_type": "execute_result",
                    "data": {
                        "text/plain": [
                            "['aaaaa', 'ccc', 'eeeeeee']"
                        ]
                    },
                    "metadata": {},
                    "execution_count": 408
                }
            ],
            "metadata": {}
        },
        {
            "cell_type": "code",
            "execution_count": 397,
            "source": [
                "list4.remove('Mary')"
            ],
            "outputs": [],
            "metadata": {}
        },
        {
            "cell_type": "code",
            "execution_count": 398,
            "source": [
                "list4"
            ],
            "outputs": [
                {
                    "output_type": "execute_result",
                    "data": {
                        "text/plain": [
                            "['Lilaa']"
                        ]
                    },
                    "metadata": {},
                    "execution_count": 398
                }
            ],
            "metadata": {}
        },
        {
            "cell_type": "code",
            "execution_count": 411,
            "source": [
                "s=int(\"3\")"
            ],
            "outputs": [],
            "metadata": {}
        },
        {
            "cell_type": "code",
            "execution_count": 412,
            "source": [
                "s"
            ],
            "outputs": [
                {
                    "output_type": "execute_result",
                    "data": {
                        "text/plain": [
                            "3"
                        ]
                    },
                    "metadata": {},
                    "execution_count": 412
                }
            ],
            "metadata": {}
        },
        {
            "cell_type": "code",
            "execution_count": 414,
            "source": [
                "3/2"
            ],
            "outputs": [
                {
                    "output_type": "execute_result",
                    "data": {
                        "text/plain": [
                            "1.5"
                        ]
                    },
                    "metadata": {},
                    "execution_count": 414
                }
            ],
            "metadata": {}
        },
        {
            "cell_type": "code",
            "execution_count": 415,
            "source": [
                "i=1\n",
                "print(\"the %d sentence\" % i)"
            ],
            "outputs": [
                {
                    "output_type": "stream",
                    "name": "stdout",
                    "text": [
                        "the 1 sentence\n"
                    ]
                }
            ],
            "metadata": {}
        },
        {
            "cell_type": "code",
            "execution_count": null,
            "source": [],
            "outputs": [],
            "metadata": {}
        }
    ],
    "metadata": {
        "orig_nbformat": 4,
        "language_info": {
            "name": "python"
        }
    },
    "nbformat": 4,
    "nbformat_minor": 2
}